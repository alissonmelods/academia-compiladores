{
 "cells": [
  {
   "cell_type": "markdown",
   "metadata": {},
   "source": [
    "O conteúdo deste material é baseado na seguinte bibliografia (quando a fonte não for explicitamente informada):\n",
    "\n",
    "PRICE, Ana Maria de Alencar; TOSCANI, Simão Sirineo. Implementação de Linguagens de Programação: Compiladores. Série Livros Didáticos (9) Instituto de Informática da FURGS. Editora Sagra Luzzatto. Porto Alegre: 2001\n",
    "\n",
    "FURTADO, Olinto José Varela. Linguagens Formais e Compiladores. Apostila. Universidade Federal de Santa Catarina - Centro Tecnológico - Departamento de Informática e de Estatística. On-line: <http://www.inf.ufsc.br/~silveira/INE5317/Apostila/ApostilaINE5317.pdf>. Último acesso: 27/07/2016.\n",
    "\n",
    "ANDERSON, Germano; SHCIBLER, Artur; MORALES, Pedro. Github - Repositório compiladores. Online: <https://github.com/germanoa/compiladores>. Último acesso: 27/07/2016.\n",
    "\n"
   ]
  }
 ],
 "metadata": {
  "kernelspec": {
   "display_name": "Python 3",
   "language": "python",
   "name": "python3"
  },
  "language_info": {
   "codemirror_mode": {
    "name": "ipython",
    "version": 3
   },
   "file_extension": ".py",
   "mimetype": "text/x-python",
   "name": "python",
   "nbconvert_exporter": "python",
   "pygments_lexer": "ipython3",
   "version": "3.4.4"
  }
 },
 "nbformat": 4,
 "nbformat_minor": 0
}
